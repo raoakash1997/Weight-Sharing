{
 "cells": [
  {
   "cell_type": "code",
   "execution_count": 2,
   "id": "ce193c0e",
   "metadata": {},
   "outputs": [
    {
     "name": "stdout",
     "output_type": "stream",
     "text": [
      "Model: \"sequential\"\n",
      "_________________________________________________________________\n",
      " Layer (type)                Output Shape              Param #   \n",
      "=================================================================\n",
      " conv2d (Conv2D)             (None, 14, 14, 64)        4864      \n",
      "                                                                 \n",
      " conv2d_1 (Conv2D)           (None, 5, 5, 128)         204928    \n",
      "                                                                 \n",
      " conv2d_2 (Conv2D)           (None, 3, 3, 256)         295168    \n",
      "                                                                 \n",
      " flatten (Flatten)           (None, 2304)              0         \n",
      "                                                                 \n",
      " dense (Dense)               (None, 1024)              2360320   \n",
      "                                                                 \n",
      " dense_1 (Dense)             (None, 10)                10250     \n",
      "                                                                 \n",
      "=================================================================\n",
      "Total params: 2,875,530\n",
      "Trainable params: 2,875,530\n",
      "Non-trainable params: 0\n",
      "_________________________________________________________________\n"
     ]
    }
   ],
   "source": [
    "import tensorflow as tf\n",
    "\n",
    "# Load the model\n",
    "cnn = tf.keras.models.load_model('weights.h5')\n",
    "\n",
    "# Display the summary to get layer names\n",
    "cnn.summary()"
   ]
  },
  {
   "cell_type": "code",
   "execution_count": 3,
   "id": "1d6fdbbb",
   "metadata": {},
   "outputs": [
    {
     "name": "stdout",
     "output_type": "stream",
     "text": [
      "Model: \"sequential\"\n",
      "_________________________________________________________________\n",
      " Layer (type)                Output Shape              Param #   \n",
      "=================================================================\n",
      " locally_connected2d (Locall  (None, 14, 14, 64)       953344    \n",
      " yConnected2D)                                                   \n",
      "                                                                 \n",
      " locally_connected2d_1 (Loca  (None, 5, 5, 128)        5123200   \n",
      " llyConnected2D)                                                 \n",
      "                                                                 \n",
      " locally_connected2d_2 (Loca  (None, 3, 3, 256)        2656512   \n",
      " llyConnected2D)                                                 \n",
      "                                                                 \n",
      " flatten (Flatten)           (None, 2304)              0         \n",
      "                                                                 \n",
      " dense (Dense)               (None, 1024)              2360320   \n",
      "                                                                 \n",
      " dense_1 (Dense)             (None, 10)                10250     \n",
      "                                                                 \n",
      "=================================================================\n",
      "Total params: 11,103,626\n",
      "Trainable params: 11,103,626\n",
      "Non-trainable params: 0\n",
      "_________________________________________________________________\n"
     ]
    }
   ],
   "source": [
    "# Load the model\n",
    "fcn = tf.keras.models.load_model('final_fcn_weights.h5')\n",
    "\n",
    "# Display the summary to get layer names\n",
    "fcn.summary()"
   ]
  },
  {
   "cell_type": "code",
   "execution_count": 41,
   "id": "cf431017",
   "metadata": {},
   "outputs": [
    {
     "name": "stdout",
     "output_type": "stream",
     "text": [
      "(5, 5, 64, 128)\n",
      "(25, 1600, 128)\n"
     ]
    }
   ],
   "source": [
    "import numpy as np\n",
    "import matplotlib.pyplot as plt\n",
    "\n",
    "conv2d_layer = cnn.get_layer('conv2d_1')\n",
    "conv2d_weights = conv2d_layer.get_weights()\n",
    "local2d_layer = fcn.get_layer('locally_connected2d_1')\n",
    "local2d_weights = local2d_layer.get_weights()\n",
    "print(conv2d_weights[0].shape)\n",
    "print(local2d_weights[0].shape)\n",
    "vectors_list = conv2d_weights[0].reshape((1600,128))\n",
    "vectors_list = np.transpose(vectors_list)\n",
    "matrices_list = np.transpose(local2d_weights[0], axes=(2,0,1))\n",
    "\n",
    "#fig, axs = plt.subplots(8, 8, figsize=(16, 16), sharex=True, sharey=True)\n",
    "\n",
    "# Flatten the axs array for easy indexing\n",
    "#axs = axs.flatten()\n",
    "\n",
    "#for i in range(64):\n",
    "    #vector = vectors_list[i]\n",
    "    #matrix = matrices_list[i]\n",
    "\n",
    "\n",
    "     #Calculate Euclidean distances\n",
    "    #distances = np.linalg.norm(matrix - vector, axis=1)\n",
    "\n",
    "    # Create a histogram for each subplot\n",
    "    #axs[i].hist(distances, bins=20, edgecolor='black')\n",
    "    #axs[i].set_title(f'Pair {i+1}')\n",
    "\n",
    "# Adjust layout and show the plot\n",
    "#plt.tight_layout()\n",
    "#plt.show()"
   ]
  },
  {
   "cell_type": "code",
   "execution_count": 42,
   "id": "f431ec92",
   "metadata": {},
   "outputs": [
    {
     "data": {
      "image/png": "[encoded data removed]",
      "text/plain": [
       "<Figure size 640x480 with 1 Axes>"
      ]
     },
     "metadata": {},
     "output_type": "display_data"
    }
   ],
   "source": [
    "all_distances = np.concatenate([np.linalg.norm(matrix - vector, axis=1)/np.linalg.norm(vector) for vector, matrix in zip(vectors_list, matrices_list)])\n",
    "\n",
    "# Create a histogram\n",
    "plt.hist(all_distances, bins=50, edgecolor='black')\n",
    "plt.xlabel('Euclidean Distance')\n",
    "plt.ylabel('Frequency')\n",
    "plt.title('Histogram of Euclidean Distances for All Pairs')\n",
    "plt.show()"
   ]
  },
  {
   "cell_type": "code",
   "execution_count": null,
   "id": "ad967a9b",
   "metadata": {},
   "outputs": [],
   "source": []
  }
 ],
 "metadata": {
  "kernelspec": {
   "display_name": "gpu2",
   "language": "python",
   "name": "gpu2"
  },
  "language_info": {
   "codemirror_mode": {
    "name": "ipython",
    "version": 3
   },
   "file_extension": ".py",
   "mimetype": "text/x-python",
   "name": "python",
   "nbconvert_exporter": "python",
   "pygments_lexer": "ipython3",
   "version": "3.10.11"
  }
 },
 "nbformat": 4,
 "nbformat_minor": 5
}
